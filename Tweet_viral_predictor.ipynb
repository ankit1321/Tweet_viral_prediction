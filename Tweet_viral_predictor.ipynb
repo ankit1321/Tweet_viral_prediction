{
 "cells": [
  {
   "cell_type": "markdown",
   "id": "41d0bac3",
   "metadata": {},
   "source": [
    "# Author name: Ankit Prasad\n",
    "Date: 05-08-2021"
   ]
  },
  {
   "cell_type": "markdown",
   "id": "62bca352",
   "metadata": {},
   "source": [
    "# Importing Libraries"
   ]
  },
  {
   "cell_type": "code",
   "execution_count": 1,
   "id": "444f4e8a",
   "metadata": {},
   "outputs": [],
   "source": [
    "import numpy as np\n",
    "import pandas as pd\n",
    "import seaborn as sns\n",
    "import matplotlib.pyplot as plt\n",
    "from sklearn.metrics import mean_squared_error,explained_variance_score,r2_score,mean_absolute_error\n",
    "from sklearn.model_selection import train_test_split\n",
    "from sklearn.ensemble import AdaBoostRegressor,ExtraTreesRegressor,RandomForestRegressor\n",
    "from sklearn.linear_model import LinearRegression\n",
    "from xgboost import XGBRegressor\n",
    "\n",
    "import tensorflow as tf\n",
    "from tensorflow.keras.callbacks import ModelCheckpoint\n",
    "from tensorflow.keras.models import Sequential\n",
    "from keras.layers import Dense, Activation, Flatten, Dropout\n",
    "from tensorflow.keras.models import load_model\n",
    "import warnings \n",
    "warnings.filterwarnings('ignore')\n",
    "warnings.filterwarnings('ignore', category=DeprecationWarning)"
   ]
  },
  {
   "cell_type": "markdown",
   "id": "64fb66f5",
   "metadata": {},
   "source": [
    "# Data loading and preprocessing"
   ]
  },
  {
   "cell_type": "code",
   "execution_count": 2,
   "id": "bfbe75d4",
   "metadata": {},
   "outputs": [],
   "source": [
    "df = pd.read_csv(\"Twitter.csv\") # loading the dataset"
   ]
  },
  {
   "cell_type": "code",
   "execution_count": 3,
   "id": "650fd5e8",
   "metadata": {},
   "outputs": [
    {
     "data": {
      "text/html": [
       "<div>\n",
       "<style scoped>\n",
       "    .dataframe tbody tr th:only-of-type {\n",
       "        vertical-align: middle;\n",
       "    }\n",
       "\n",
       "    .dataframe tbody tr th {\n",
       "        vertical-align: top;\n",
       "    }\n",
       "\n",
       "    .dataframe thead th {\n",
       "        text-align: right;\n",
       "    }\n",
       "</style>\n",
       "<table border=\"1\" class=\"dataframe\">\n",
       "  <thead>\n",
       "    <tr style=\"text-align: right;\">\n",
       "      <th></th>\n",
       "      <th>Unnamed: 0</th>\n",
       "      <th>Id</th>\n",
       "      <th>Post Contet</th>\n",
       "      <th>Sentiment score</th>\n",
       "      <th>Post Length</th>\n",
       "      <th>Hashtag count</th>\n",
       "      <th>Content URL count</th>\n",
       "      <th>Tweet count</th>\n",
       "      <th>Followers count</th>\n",
       "      <th>Listed Count</th>\n",
       "      <th>Media Type</th>\n",
       "      <th>Published DateTime</th>\n",
       "      <th>Mentions Count</th>\n",
       "      <th>Post author verified</th>\n",
       "      <th>Likes</th>\n",
       "      <th>Shares</th>\n",
       "      <th>Comments</th>\n",
       "      <th>Impact</th>\n",
       "    </tr>\n",
       "  </thead>\n",
       "  <tbody>\n",
       "    <tr>\n",
       "      <th>0</th>\n",
       "      <td>41370</td>\n",
       "      <td>6d967b125fcecba6357dbc43f8f380cf2d6d7a51</td>\n",
       "      <td>Sana all na lang.</td>\n",
       "      <td>0.0</td>\n",
       "      <td>17.0</td>\n",
       "      <td>0.0</td>\n",
       "      <td>0.0</td>\n",
       "      <td>1660.0</td>\n",
       "      <td>133.0</td>\n",
       "      <td>0</td>\n",
       "      <td>TEXT</td>\n",
       "      <td>2021-01-28 12:17:24+00:00</td>\n",
       "      <td>0.0</td>\n",
       "      <td>0.0</td>\n",
       "      <td>0.0</td>\n",
       "      <td>0.0</td>\n",
       "      <td>0.0</td>\n",
       "      <td>0.0</td>\n",
       "    </tr>\n",
       "    <tr>\n",
       "      <th>1</th>\n",
       "      <td>27955</td>\n",
       "      <td>22dc5f808a8589186767412f39e5c88ae9753d04</td>\n",
       "      <td>キスマイ玉森裕太「ボス恋」台本の裏話明かす\\n\\n@TBS_asachan @bosskoi...</td>\n",
       "      <td>19.3</td>\n",
       "      <td>84.0</td>\n",
       "      <td>0.0</td>\n",
       "      <td>1.0</td>\n",
       "      <td>318924.0</td>\n",
       "      <td>1428273.0</td>\n",
       "      <td>5454</td>\n",
       "      <td>TEXT</td>\n",
       "      <td>2021-02-24 06:51:02+00:00</td>\n",
       "      <td>0.0</td>\n",
       "      <td>1.0</td>\n",
       "      <td>10.0</td>\n",
       "      <td>1.0</td>\n",
       "      <td>0.0</td>\n",
       "      <td>110.0</td>\n",
       "    </tr>\n",
       "    <tr>\n",
       "      <th>2</th>\n",
       "      <td>38151</td>\n",
       "      <td>7f224e66ad757e3066d45947881bcaab91f8e57f</td>\n",
       "      <td>SuperM’s album isn’t even out yet and there’s ...</td>\n",
       "      <td>0.0</td>\n",
       "      <td>78.0</td>\n",
       "      <td>0.0</td>\n",
       "      <td>0.0</td>\n",
       "      <td>39976.0</td>\n",
       "      <td>1560.0</td>\n",
       "      <td>0</td>\n",
       "      <td>TEXT</td>\n",
       "      <td>2020-09-15 01:16:32+00:00</td>\n",
       "      <td>0.0</td>\n",
       "      <td>0.0</td>\n",
       "      <td>0.0</td>\n",
       "      <td>0.0</td>\n",
       "      <td>0.0</td>\n",
       "      <td>0.0</td>\n",
       "    </tr>\n",
       "    <tr>\n",
       "      <th>3</th>\n",
       "      <td>13558</td>\n",
       "      <td>5acc220e7a337efafc4c847b7f74680ca2515890</td>\n",
       "      <td>மத்திய அரசின் நலத்திட்டங்களை மக்களுக்கு சென்று...</td>\n",
       "      <td>0.0</td>\n",
       "      <td>284.0</td>\n",
       "      <td>2.0</td>\n",
       "      <td>0.0</td>\n",
       "      <td>8045.0</td>\n",
       "      <td>27191.0</td>\n",
       "      <td>26</td>\n",
       "      <td>TEXT</td>\n",
       "      <td>2021-02-14 03:53:53+00:00</td>\n",
       "      <td>0.0</td>\n",
       "      <td>1.0</td>\n",
       "      <td>460.0</td>\n",
       "      <td>219.0</td>\n",
       "      <td>4.0</td>\n",
       "      <td>6830.0</td>\n",
       "    </tr>\n",
       "    <tr>\n",
       "      <th>4</th>\n",
       "      <td>17071</td>\n",
       "      <td>863abf834897a06afdc459788b34abeae6298f3a</td>\n",
       "      <td>【熊本県人吉市】球磨川氾濫後のくま川鉄道の線路被害状況 hamusoku.com/archi...</td>\n",
       "      <td>-20.0</td>\n",
       "      <td>80.0</td>\n",
       "      <td>0.0</td>\n",
       "      <td>1.0</td>\n",
       "      <td>210996.0</td>\n",
       "      <td>2385.0</td>\n",
       "      <td>0</td>\n",
       "      <td>IMAGE</td>\n",
       "      <td>2020-07-04 13:06:16+00:00</td>\n",
       "      <td>0.0</td>\n",
       "      <td>0.0</td>\n",
       "      <td>0.0</td>\n",
       "      <td>0.0</td>\n",
       "      <td>0.0</td>\n",
       "      <td>0.0</td>\n",
       "    </tr>\n",
       "  </tbody>\n",
       "</table>\n",
       "</div>"
      ],
      "text/plain": [
       "   Unnamed: 0                                        Id  \\\n",
       "0       41370  6d967b125fcecba6357dbc43f8f380cf2d6d7a51   \n",
       "1       27955  22dc5f808a8589186767412f39e5c88ae9753d04   \n",
       "2       38151  7f224e66ad757e3066d45947881bcaab91f8e57f   \n",
       "3       13558  5acc220e7a337efafc4c847b7f74680ca2515890   \n",
       "4       17071  863abf834897a06afdc459788b34abeae6298f3a   \n",
       "\n",
       "                                         Post Contet  Sentiment score  \\\n",
       "0                                  Sana all na lang.              0.0   \n",
       "1  キスマイ玉森裕太「ボス恋」台本の裏話明かす\\n\\n@TBS_asachan @bosskoi...             19.3   \n",
       "2  SuperM’s album isn’t even out yet and there’s ...              0.0   \n",
       "3  மத்திய அரசின் நலத்திட்டங்களை மக்களுக்கு சென்று...              0.0   \n",
       "4  【熊本県人吉市】球磨川氾濫後のくま川鉄道の線路被害状況 hamusoku.com/archi...            -20.0   \n",
       "\n",
       "   Post Length  Hashtag count  Content URL count  Tweet count  \\\n",
       "0         17.0            0.0                0.0       1660.0   \n",
       "1         84.0            0.0                1.0     318924.0   \n",
       "2         78.0            0.0                0.0      39976.0   \n",
       "3        284.0            2.0                0.0       8045.0   \n",
       "4         80.0            0.0                1.0     210996.0   \n",
       "\n",
       "   Followers count  Listed Count Media Type         Published DateTime  \\\n",
       "0            133.0             0       TEXT  2021-01-28 12:17:24+00:00   \n",
       "1        1428273.0          5454       TEXT  2021-02-24 06:51:02+00:00   \n",
       "2           1560.0             0       TEXT  2020-09-15 01:16:32+00:00   \n",
       "3          27191.0            26       TEXT  2021-02-14 03:53:53+00:00   \n",
       "4           2385.0             0      IMAGE  2020-07-04 13:06:16+00:00   \n",
       "\n",
       "   Mentions Count  Post author verified  Likes  Shares  Comments  Impact  \n",
       "0             0.0                   0.0    0.0     0.0       0.0     0.0  \n",
       "1             0.0                   1.0   10.0     1.0       0.0   110.0  \n",
       "2             0.0                   0.0    0.0     0.0       0.0     0.0  \n",
       "3             0.0                   1.0  460.0   219.0       4.0  6830.0  \n",
       "4             0.0                   0.0    0.0     0.0       0.0     0.0  "
      ]
     },
     "execution_count": 3,
     "metadata": {},
     "output_type": "execute_result"
    }
   ],
   "source": [
    "df.head() # Data visualisation"
   ]
  },
  {
   "cell_type": "code",
   "execution_count": 4,
   "id": "362c5f52",
   "metadata": {},
   "outputs": [
    {
     "name": "stdout",
     "output_type": "stream",
     "text": [
      "<class 'pandas.core.frame.DataFrame'>\n",
      "RangeIndex: 50000 entries, 0 to 49999\n",
      "Data columns (total 18 columns):\n",
      " #   Column                Non-Null Count  Dtype  \n",
      "---  ------                --------------  -----  \n",
      " 0   Unnamed: 0            50000 non-null  int64  \n",
      " 1   Id                    50000 non-null  object \n",
      " 2   Post Contet           50000 non-null  object \n",
      " 3   Sentiment score       50000 non-null  float64\n",
      " 4   Post Length           50000 non-null  float64\n",
      " 5   Hashtag count         50000 non-null  float64\n",
      " 6   Content URL count     50000 non-null  float64\n",
      " 7   Tweet count           50000 non-null  float64\n",
      " 8   Followers count       50000 non-null  float64\n",
      " 9   Listed Count          50000 non-null  int64  \n",
      " 10  Media Type            50000 non-null  object \n",
      " 11  Published DateTime    50000 non-null  object \n",
      " 12  Mentions Count        50000 non-null  float64\n",
      " 13  Post author verified  50000 non-null  float64\n",
      " 14  Likes                 50000 non-null  float64\n",
      " 15  Shares                50000 non-null  float64\n",
      " 16  Comments              50000 non-null  float64\n",
      " 17  Impact                50000 non-null  float64\n",
      "dtypes: float64(12), int64(2), object(4)\n",
      "memory usage: 6.9+ MB\n"
     ]
    }
   ],
   "source": [
    "df.info() # checking type in all columns"
   ]
  },
  {
   "cell_type": "code",
   "execution_count": 5,
   "id": "03354989",
   "metadata": {},
   "outputs": [
    {
     "data": {
      "text/plain": [
       "Unnamed: 0              27991\n",
       "Id                      47512\n",
       "Post Contet             47429\n",
       "Sentiment score          2100\n",
       "Post Length               329\n",
       "Hashtag count              21\n",
       "Content URL count           8\n",
       "Tweet count             39328\n",
       "Followers count         39024\n",
       "Listed Count            13950\n",
       "Media Type                  3\n",
       "Published DateTime      47412\n",
       "Mentions Count             13\n",
       "Post author verified        2\n",
       "Likes                    9525\n",
       "Shares                   5535\n",
       "Comments                  465\n",
       "Impact                  10809\n",
       "dtype: int64"
      ]
     },
     "execution_count": 5,
     "metadata": {},
     "output_type": "execute_result"
    }
   ],
   "source": [
    "df.nunique() # Checking unique values in each columns "
   ]
  },
  {
   "cell_type": "code",
   "execution_count": 6,
   "id": "1394fbf0",
   "metadata": {},
   "outputs": [
    {
     "data": {
      "text/plain": [
       "<AxesSubplot:>"
      ]
     },
     "execution_count": 6,
     "metadata": {},
     "output_type": "execute_result"
    },
    {
     "data": {
      "image/png": "[encoded data removed]",
      "text/plain": [
       "<Figure size 432x288 with 1 Axes>"
      ]
     },
     "metadata": {
      "needs_background": "light"
     },
     "output_type": "display_data"
    }
   ],
   "source": [
    "# Visualising the null values in dataset\n",
    "sns.heatmap(df.isnull(),cbar=False,yticklabels=False,cmap = 'viridis')"
   ]
  },
  {
   "cell_type": "code",
   "execution_count": 7,
   "id": "a0d05bae",
   "metadata": {},
   "outputs": [
    {
     "data": {
      "text/plain": [
       "Unnamed: 0              0\n",
       "Id                      0\n",
       "Post Contet             0\n",
       "Sentiment score         0\n",
       "Post Length             0\n",
       "Hashtag count           0\n",
       "Content URL count       0\n",
       "Tweet count             0\n",
       "Followers count         0\n",
       "Listed Count            0\n",
       "Media Type              0\n",
       "Published DateTime      0\n",
       "Mentions Count          0\n",
       "Post author verified    0\n",
       "Likes                   0\n",
       "Shares                  0\n",
       "Comments                0\n",
       "Impact                  0\n",
       "dtype: int64"
      ]
     },
     "execution_count": 7,
     "metadata": {},
     "output_type": "execute_result"
    }
   ],
   "source": [
    "df.isna().sum()"
   ]
  },
  {
   "cell_type": "code",
   "execution_count": 8,
   "id": "b4f1eaec",
   "metadata": {},
   "outputs": [
    {
     "data": {
      "image/png": "[encoded data removed]",
      "text/plain": [
       "<Figure size 1440x720 with 2 Axes>"
      ]
     },
     "metadata": {
      "needs_background": "light"
     },
     "output_type": "display_data"
    }
   ],
   "source": [
    "# Checking correlation between each columns\n",
    "corr = df.corr()\n",
    "plt.figure(figsize=(20,10))\n",
    "mask = np.zeros_like(corr,dtype=np.bool)\n",
    "mask[np.triu_indices_from(mask)] = True\n",
    "sns.heatmap(corr,mask=mask,annot=True)\n",
    "plt.show()"
   ]
  },
  {
   "cell_type": "code",
   "execution_count": 9,
   "id": "8d3f1ee6",
   "metadata": {},
   "outputs": [],
   "source": [
    "# Removing columns which are not corelated to impact column\n",
    "df.drop(columns=['Unnamed: 0','Id','Post Contet','Content URL count','Tweet count','Mentions Count',\n",
    "                 'Published DateTime'],inplace=True)"
   ]
  },
  {
   "cell_type": "code",
   "execution_count": 10,
   "id": "c4dd0bbf",
   "metadata": {},
   "outputs": [],
   "source": [
    "# Renaming columns name for ease of access\n",
    "df.rename(columns = {'Media Type':'Media_type','Sentiment score':'Sentiment_score',\n",
    "                    'Post Length':'Post_Length','Hashtag count':'Hashtag_count',\n",
    "                    'Followers count':'Followers_count','Listed Count':'Listed_Count',\n",
    "                    'Post author verified':'Post_author_verified'},inplace=True)"
   ]
  },
  {
   "cell_type": "code",
   "execution_count": 11,
   "id": "fff9873f",
   "metadata": {},
   "outputs": [
    {
     "data": {
      "text/html": [
       "<div>\n",
       "<style scoped>\n",
       "    .dataframe tbody tr th:only-of-type {\n",
       "        vertical-align: middle;\n",
       "    }\n",
       "\n",
       "    .dataframe tbody tr th {\n",
       "        vertical-align: top;\n",
       "    }\n",
       "\n",
       "    .dataframe thead th {\n",
       "        text-align: right;\n",
       "    }\n",
       "</style>\n",
       "<table border=\"1\" class=\"dataframe\">\n",
       "  <thead>\n",
       "    <tr style=\"text-align: right;\">\n",
       "      <th></th>\n",
       "      <th>Sentiment_score</th>\n",
       "      <th>Post_Length</th>\n",
       "      <th>Hashtag_count</th>\n",
       "      <th>Followers_count</th>\n",
       "      <th>Listed_Count</th>\n",
       "      <th>Media_type</th>\n",
       "      <th>Post_author_verified</th>\n",
       "      <th>Likes</th>\n",
       "      <th>Shares</th>\n",
       "      <th>Comments</th>\n",
       "      <th>Impact</th>\n",
       "    </tr>\n",
       "  </thead>\n",
       "  <tbody>\n",
       "    <tr>\n",
       "      <th>0</th>\n",
       "      <td>0.0</td>\n",
       "      <td>17.0</td>\n",
       "      <td>0.0</td>\n",
       "      <td>133.0</td>\n",
       "      <td>0</td>\n",
       "      <td>1</td>\n",
       "      <td>0.0</td>\n",
       "      <td>0.0</td>\n",
       "      <td>0.0</td>\n",
       "      <td>0.0</td>\n",
       "      <td>0.0</td>\n",
       "    </tr>\n",
       "    <tr>\n",
       "      <th>1</th>\n",
       "      <td>19.3</td>\n",
       "      <td>84.0</td>\n",
       "      <td>0.0</td>\n",
       "      <td>1428273.0</td>\n",
       "      <td>5454</td>\n",
       "      <td>1</td>\n",
       "      <td>1.0</td>\n",
       "      <td>10.0</td>\n",
       "      <td>1.0</td>\n",
       "      <td>0.0</td>\n",
       "      <td>110.0</td>\n",
       "    </tr>\n",
       "    <tr>\n",
       "      <th>2</th>\n",
       "      <td>0.0</td>\n",
       "      <td>78.0</td>\n",
       "      <td>0.0</td>\n",
       "      <td>1560.0</td>\n",
       "      <td>0</td>\n",
       "      <td>1</td>\n",
       "      <td>0.0</td>\n",
       "      <td>0.0</td>\n",
       "      <td>0.0</td>\n",
       "      <td>0.0</td>\n",
       "      <td>0.0</td>\n",
       "    </tr>\n",
       "    <tr>\n",
       "      <th>3</th>\n",
       "      <td>0.0</td>\n",
       "      <td>284.0</td>\n",
       "      <td>2.0</td>\n",
       "      <td>27191.0</td>\n",
       "      <td>26</td>\n",
       "      <td>1</td>\n",
       "      <td>1.0</td>\n",
       "      <td>460.0</td>\n",
       "      <td>219.0</td>\n",
       "      <td>4.0</td>\n",
       "      <td>6830.0</td>\n",
       "    </tr>\n",
       "    <tr>\n",
       "      <th>4</th>\n",
       "      <td>-20.0</td>\n",
       "      <td>80.0</td>\n",
       "      <td>0.0</td>\n",
       "      <td>2385.0</td>\n",
       "      <td>0</td>\n",
       "      <td>0</td>\n",
       "      <td>0.0</td>\n",
       "      <td>0.0</td>\n",
       "      <td>0.0</td>\n",
       "      <td>0.0</td>\n",
       "      <td>0.0</td>\n",
       "    </tr>\n",
       "  </tbody>\n",
       "</table>\n",
       "</div>"
      ],
      "text/plain": [
       "   Sentiment_score  Post_Length  Hashtag_count  Followers_count  Listed_Count  \\\n",
       "0              0.0         17.0            0.0            133.0             0   \n",
       "1             19.3         84.0            0.0        1428273.0          5454   \n",
       "2              0.0         78.0            0.0           1560.0             0   \n",
       "3              0.0        284.0            2.0          27191.0            26   \n",
       "4            -20.0         80.0            0.0           2385.0             0   \n",
       "\n",
       "   Media_type  Post_author_verified  Likes  Shares  Comments  Impact  \n",
       "0           1                   0.0    0.0     0.0       0.0     0.0  \n",
       "1           1                   1.0   10.0     1.0       0.0   110.0  \n",
       "2           1                   0.0    0.0     0.0       0.0     0.0  \n",
       "3           1                   1.0  460.0   219.0       4.0  6830.0  \n",
       "4           0                   0.0    0.0     0.0       0.0     0.0  "
      ]
     },
     "execution_count": 11,
     "metadata": {},
     "output_type": "execute_result"
    }
   ],
   "source": [
    "# convert into category of object type column\n",
    "df['Media_type']=df.Media_type.astype('category')\n",
    "df['Media_type']=df.Media_type.cat.codes\n",
    "df.head()"
   ]
  },
  {
   "cell_type": "code",
   "execution_count": 12,
   "id": "b4e0d64a",
   "metadata": {},
   "outputs": [],
   "source": [
    "labels = df.pop('Impact')"
   ]
  },
  {
   "cell_type": "code",
   "execution_count": 13,
   "id": "8fa4e6b1",
   "metadata": {},
   "outputs": [],
   "source": [
    "# Making of training and testing dataset\n",
    "x_train,x_test,y_train,y_test = train_test_split(df,labels,random_state=55)"
   ]
  },
  {
   "cell_type": "code",
   "execution_count": 14,
   "id": "28d489c4",
   "metadata": {},
   "outputs": [
    {
     "data": {
      "text/plain": [
       "((37500, 10), (12500, 10), (37500,), (12500,))"
      ]
     },
     "execution_count": 14,
     "metadata": {},
     "output_type": "execute_result"
    }
   ],
   "source": [
    "x_train.shape,x_test.shape,y_train.shape,y_test.shape"
   ]
  },
  {
   "cell_type": "markdown",
   "id": "e2f12a8b",
   "metadata": {},
   "source": [
    "# Data Modeling"
   ]
  },
  {
   "cell_type": "markdown",
   "id": "af7eeca7",
   "metadata": {},
   "source": [
    "## 1. Using decision trees(with boosting and pruning)"
   ]
  },
  {
   "cell_type": "code",
   "execution_count": 15,
   "id": "60f5fa6c",
   "metadata": {},
   "outputs": [
    {
     "name": "stdout",
     "output_type": "stream",
     "text": [
      "r2 score is: 0.7403886241022306\n",
      "mean absolute error is: 52243.87869209471\n",
      "Wall time: 3.47 s\n"
     ]
    }
   ],
   "source": [
    "%%time\n",
    "# 1.1 Adaboostregressor\n",
    "ada = AdaBoostRegressor()\n",
    "ada.fit(x_train,y_train)\n",
    "pred = ada.predict(x_test)\n",
    "print(\"r2 score is:\",r2_score(y_test,pred))\n",
    "print(\"mean absolute error is:\",mean_absolute_error(y_test,pred))"
   ]
  },
  {
   "cell_type": "code",
   "execution_count": 16,
   "id": "6ab30399",
   "metadata": {},
   "outputs": [
    {
     "name": "stdout",
     "output_type": "stream",
     "text": [
      "r2 score is: 0.9994362017525215\n",
      "mean absolute error is: 209.56919200000004\n",
      "Wall time: 13.4 s\n"
     ]
    }
   ],
   "source": [
    "%%time\n",
    "# 1.2 Extra trees regressor\n",
    "extree = ExtraTreesRegressor()\n",
    "extree.fit(x_train,y_train)\n",
    "pred = extree.predict(x_test)\n",
    "print(\"r2 score is:\",r2_score(y_test,pred))\n",
    "print(\"mean absolute error is:\",mean_absolute_error(y_test,pred))"
   ]
  },
  {
   "cell_type": "code",
   "execution_count": 17,
   "id": "6d76c671",
   "metadata": {},
   "outputs": [
    {
     "name": "stdout",
     "output_type": "stream",
     "text": [
      "r2 score is: 0.9990475596883083\n",
      "mean absolute error is: 428.76892799999996\n",
      "Wall time: 23 s\n"
     ]
    }
   ],
   "source": [
    "%%time\n",
    "# 1.3 Random Forest regressor\n",
    "ran = RandomForestRegressor()\n",
    "ran.fit(x_train,y_train)\n",
    "pred = ran.predict(x_test)\n",
    "print(\"r2 score is:\",r2_score(y_test,pred))\n",
    "print(\"mean absolute error is:\",mean_absolute_error(y_test,pred))"
   ]
  },
  {
   "cell_type": "code",
   "execution_count": 18,
   "id": "3b574af2",
   "metadata": {},
   "outputs": [
    {
     "name": "stdout",
     "output_type": "stream",
     "text": [
      "r2 score is: 0.9992741322138515\n",
      "mean absolute error is: 694.9607264678955\n",
      "Wall time: 2.99 s\n"
     ]
    }
   ],
   "source": [
    "%%time\n",
    "# 1.4 XGBboost regressor\n",
    "xgb = XGBRegressor()\n",
    "xgb.fit(x_train,y_train)\n",
    "pred = xgb.predict(x_test)\n",
    "print(\"r2 score is:\",r2_score(y_test,pred))\n",
    "print(\"mean absolute error is:\",mean_absolute_error(y_test,pred))"
   ]
  },
  {
   "cell_type": "markdown",
   "id": "9b431605",
   "metadata": {},
   "source": [
    "## 2. Linear Regression"
   ]
  },
  {
   "cell_type": "code",
   "execution_count": 19,
   "id": "98abd58e",
   "metadata": {},
   "outputs": [
    {
     "name": "stdout",
     "output_type": "stream",
     "text": [
      "r2 score is: 0.9999999992634825\n",
      "mean absolute error is: 0.27769493951341495\n",
      "Wall time: 46.8 ms\n"
     ]
    }
   ],
   "source": [
    "%%time\n",
    "lin = LinearRegression()\n",
    "lin.fit(x_train,y_train)\n",
    "pred = lin.predict(x_test)\n",
    "print(\"r2 score is:\",r2_score(y_test,pred))\n",
    "print(\"mean absolute error is:\",mean_absolute_error(y_test,pred))"
   ]
  },
  {
   "cell_type": "markdown",
   "id": "b8f866a6",
   "metadata": {},
   "source": [
    "## Exploring predictions with robust scaler preprocessing"
   ]
  },
  {
   "cell_type": "code",
   "execution_count": 20,
   "id": "02e2cd0b",
   "metadata": {},
   "outputs": [],
   "source": [
    "from sklearn.preprocessing import RobustScaler\n",
    "scaler = RobustScaler()\n",
    "X_train = scaler.fit_transform(x_train)\n",
    "X_test = scaler.transform(x_test)"
   ]
  },
  {
   "cell_type": "code",
   "execution_count": 21,
   "id": "ce165861",
   "metadata": {},
   "outputs": [
    {
     "name": "stdout",
     "output_type": "stream",
     "text": [
      "r2 score is: 0.7017498470283272\n",
      "mean absolute error is: 55833.84883158717\n",
      "Wall time: 3.01 s\n"
     ]
    }
   ],
   "source": [
    "%%time\n",
    "ada = AdaBoostRegressor()\n",
    "ada.fit(X_train,y_train)\n",
    "pred = ada.predict(X_test)\n",
    "print(\"r2 score is:\",r2_score(y_test,pred))\n",
    "print(\"mean absolute error is:\",mean_absolute_error(y_test,pred))"
   ]
  },
  {
   "cell_type": "code",
   "execution_count": 22,
   "id": "d066ac56",
   "metadata": {},
   "outputs": [
    {
     "name": "stdout",
     "output_type": "stream",
     "text": [
      "r2 score is: 0.9994573887118896\n",
      "mean absolute error is: 215.31600799999998\n",
      "Wall time: 11.2 s\n"
     ]
    }
   ],
   "source": [
    "%%time\n",
    "extree = ExtraTreesRegressor()\n",
    "extree.fit(X_train,y_train)\n",
    "pred = extree.predict(X_test)\n",
    "print(\"r2 score is:\",r2_score(y_test,pred))\n",
    "print(\"mean absolute error is:\",mean_absolute_error(y_test,pred))"
   ]
  },
  {
   "cell_type": "code",
   "execution_count": 23,
   "id": "c43e2198",
   "metadata": {},
   "outputs": [
    {
     "name": "stdout",
     "output_type": "stream",
     "text": [
      "r2 score is: 0.9990793252287478\n",
      "mean absolute error is: 422.79596\n",
      "Wall time: 21.8 s\n"
     ]
    }
   ],
   "source": [
    "%%time\n",
    "ran = RandomForestRegressor()\n",
    "ran.fit(X_train,y_train)\n",
    "pred = ran.predict(X_test)\n",
    "print(\"r2 score is:\",r2_score(y_test,pred))\n",
    "print(\"mean absolute error is:\",mean_absolute_error(y_test,pred))"
   ]
  },
  {
   "cell_type": "code",
   "execution_count": 24,
   "id": "fc1084e7",
   "metadata": {},
   "outputs": [
    {
     "name": "stdout",
     "output_type": "stream",
     "text": [
      "r2 score is: 0.9992743779807451\n",
      "mean absolute error is: 695.0300918585206\n",
      "Wall time: 3.04 s\n"
     ]
    }
   ],
   "source": [
    "%%time\n",
    "xgb = XGBRegressor()\n",
    "xgb.fit(X_train,y_train)\n",
    "pred = xgb.predict(X_test)\n",
    "print(\"r2 score is:\",r2_score(y_test,pred))\n",
    "print(\"mean absolute error is:\",mean_absolute_error(y_test,pred))"
   ]
  },
  {
   "cell_type": "code",
   "execution_count": 25,
   "id": "f7a19bc2",
   "metadata": {},
   "outputs": [
    {
     "name": "stdout",
     "output_type": "stream",
     "text": [
      "r2 score is: 0.9999999992634825\n",
      "mean absolute error is: 0.27769493954150004\n",
      "Wall time: 19.4 ms\n"
     ]
    }
   ],
   "source": [
    "%%time\n",
    "lin = LinearRegression()\n",
    "lin.fit(X_train,y_train)\n",
    "pred = lin.predict(X_test)\n",
    "print(\"r2 score is:\",r2_score(y_test,pred))\n",
    "print(\"mean absolute error is:\",mean_absolute_error(y_test,pred))"
   ]
  },
  {
   "cell_type": "markdown",
   "id": "a8558f5d",
   "metadata": {},
   "source": [
    "### Note: Here we can see by using robust scaler there is not much difference in results. So we won't be using it. "
   ]
  },
  {
   "cell_type": "markdown",
   "id": "ba785eba",
   "metadata": {},
   "source": [
    "## 3. Neural network regressor"
   ]
  },
  {
   "cell_type": "code",
   "execution_count": 26,
   "id": "5297ac95",
   "metadata": {},
   "outputs": [],
   "source": [
    "NN_model = Sequential()\n",
    "\n",
    "# The Input Layer :\n",
    "NN_model.add(Dense(1024, kernel_initializer='normal',input_dim = x_train.shape[1], activation='relu'))\n",
    "\n",
    "# The Hidden Layers :\n",
    "NN_model.add(Dense(512,activation='relu'))\n",
    "NN_model.add(Dense(512,activation='relu'))\n",
    "NN_model.add(Dropout(0.15))\n",
    "NN_model.add(Dense(156,activation='relu'))\n",
    "NN_model.add(Dense(16,activation='relu'))\n",
    "\n",
    "# The Output Layer :\n",
    "NN_model.add(Dense(1))\n",
    "\n",
    "# Compile the network :\n",
    "NN_model.compile(loss='mean_absolute_error', optimizer='adam', metrics=['mean_absolute_error'])"
   ]
  },
  {
   "cell_type": "code",
   "execution_count": 27,
   "id": "2f8b8191",
   "metadata": {},
   "outputs": [],
   "source": [
    "checkpoint = ModelCheckpoint(\"./checkpoint/\",monitor='val_loss', verbose = 0, save_best_only = True, mode ='auto')\n",
    "callbacks_list = [checkpoint]"
   ]
  },
  {
   "cell_type": "code",
   "execution_count": 28,
   "id": "07e8b1e6",
   "metadata": {},
   "outputs": [
    {
     "name": "stderr",
     "output_type": "stream",
     "text": [
      "WARNING:absl:Found untraced functions such as dense_layer_call_fn, dense_layer_call_and_return_conditional_losses, dense_1_layer_call_fn, dense_1_layer_call_and_return_conditional_losses, dense_2_layer_call_fn while saving (showing 5 of 35). These functions will not be directly callable after loading.\n"
     ]
    },
    {
     "name": "stdout",
     "output_type": "stream",
     "text": [
      "INFO:tensorflow:Assets written to: ./checkpoint\\assets\n"
     ]
    },
    {
     "name": "stderr",
     "output_type": "stream",
     "text": [
      "INFO:tensorflow:Assets written to: ./checkpoint\\assets\n",
      "WARNING:absl:Found untraced functions such as dense_layer_call_fn, dense_layer_call_and_return_conditional_losses, dense_1_layer_call_fn, dense_1_layer_call_and_return_conditional_losses, dense_2_layer_call_fn while saving (showing 5 of 35). These functions will not be directly callable after loading.\n"
     ]
    },
    {
     "name": "stdout",
     "output_type": "stream",
     "text": [
      "INFO:tensorflow:Assets written to: ./checkpoint\\assets\n"
     ]
    },
    {
     "name": "stderr",
     "output_type": "stream",
     "text": [
      "INFO:tensorflow:Assets written to: ./checkpoint\\assets\n",
      "WARNING:absl:Found untraced functions such as dense_layer_call_fn, dense_layer_call_and_return_conditional_losses, dense_1_layer_call_fn, dense_1_layer_call_and_return_conditional_losses, dense_2_layer_call_fn while saving (showing 5 of 35). These functions will not be directly callable after loading.\n"
     ]
    },
    {
     "name": "stdout",
     "output_type": "stream",
     "text": [
      "INFO:tensorflow:Assets written to: ./checkpoint\\assets\n"
     ]
    },
    {
     "name": "stderr",
     "output_type": "stream",
     "text": [
      "INFO:tensorflow:Assets written to: ./checkpoint\\assets\n"
     ]
    },
    {
     "name": "stdout",
     "output_type": "stream",
     "text": [
      "Wall time: 46.6 s\n"
     ]
    },
    {
     "data": {
      "text/plain": [
       "<tensorflow.python.keras.callbacks.History at 0x2b1801427f0>"
      ]
     },
     "execution_count": 28,
     "metadata": {},
     "output_type": "execute_result"
    }
   ],
   "source": [
    "%%time\n",
    "NN_model.fit(x_train, y_train, epochs=10, batch_size=128, validation_split = 0.2, \n",
    "             callbacks=callbacks_list,verbose=0)"
   ]
  },
  {
   "cell_type": "code",
   "execution_count": 29,
   "id": "0b112c0b",
   "metadata": {},
   "outputs": [],
   "source": [
    "model = load_model(\"./checkpoint/\")"
   ]
  },
  {
   "cell_type": "code",
   "execution_count": 30,
   "id": "52aa1f57",
   "metadata": {},
   "outputs": [
    {
     "name": "stdout",
     "output_type": "stream",
     "text": [
      "r2 score is: 0.3535040742490083\n",
      "mean absolute error is: 23315.892936959208\n"
     ]
    }
   ],
   "source": [
    "pred = model.predict(x_test)\n",
    "print(\"r2 score is:\",r2_score(y_test,pred))\n",
    "print(\"mean absolute error is:\",mean_absolute_error(y_test,pred))"
   ]
  },
  {
   "cell_type": "markdown",
   "id": "41856f2c",
   "metadata": {},
   "source": [
    "# Best model "
   ]
  },
  {
   "cell_type": "markdown",
   "id": "aa58f70a",
   "metadata": {},
   "source": [
    "## Linear Regression (For the given dataset)"
   ]
  },
  {
   "cell_type": "code",
   "execution_count": 31,
   "id": "89df9f80",
   "metadata": {},
   "outputs": [
    {
     "name": "stdout",
     "output_type": "stream",
     "text": [
      "r2 score is: 0.9999999992634825\n",
      "mean absolute error is: 0.27769493951341495\n",
      "Explained variance score is: 0.9999999992640659\n",
      "mean squared error is: 8.265401442597105\n",
      "Wall time: 41.5 ms\n"
     ]
    }
   ],
   "source": [
    "%%time\n",
    "# Best results in terms of accuracy as well as wall time to run the model.\n",
    "lin = LinearRegression()\n",
    "lin.fit(x_train,y_train)\n",
    "pred = lin.predict(x_test)\n",
    "print(\"r2 score is:\",r2_score(y_test,pred))\n",
    "print(\"mean absolute error is:\",mean_absolute_error(y_test,pred))\n",
    "print(\"Explained variance score is:\",explained_variance_score(y_test,pred))\n",
    "print(\"mean squared error is:\",mean_squared_error(y_test,pred))"
   ]
  },
  {
   "cell_type": "code",
   "execution_count": null,
   "id": "3ca18ac8",
   "metadata": {},
   "outputs": [],
   "source": []
  }
 ],
 "metadata": {
  "kernelspec": {
   "display_name": "Python 3",
   "language": "python",
   "name": "python3"
  },
  "language_info": {
   "codemirror_mode": {
    "name": "ipython",
    "version": 3
   },
   "file_extension": ".py",
   "mimetype": "text/x-python",
   "name": "python",
   "nbconvert_exporter": "python",
   "pygments_lexer": "ipython3",
   "version": "3.8.8"
  }
 },
 "nbformat": 4,
 "nbformat_minor": 5
}
